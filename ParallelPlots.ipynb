{
 "cells": [
  {
   "cell_type": "markdown",
   "metadata": {},
   "source": [
    "From https://plot.ly/python/parallel-coordinates-plot/"
   ]
  },
  {
   "cell_type": "code",
   "execution_count": 1,
   "metadata": {
    "ExecuteTime": {
     "end_time": "2019-09-18T15:21:08.633540Z",
     "start_time": "2019-09-18T15:21:08.627799Z"
    }
   },
   "outputs": [
    {
     "data": {
      "text/html": [
       "<style>.container { width:100% !important; }</style>"
      ],
      "text/plain": [
       "<IPython.core.display.HTML object>"
      ]
     },
     "metadata": {},
     "output_type": "display_data"
    }
   ],
   "source": [
    "from IPython.core.display import display, HTML\n",
    "display(HTML(\"<style>.container { width:100% !important; }</style>\"))"
   ]
  },
  {
   "cell_type": "code",
   "execution_count": 2,
   "metadata": {
    "ExecuteTime": {
     "end_time": "2019-09-18T13:32:59.596708Z",
     "start_time": "2019-09-18T13:32:59.044850Z"
    }
   },
   "outputs": [],
   "source": [
    "# !pwd"
   ]
  },
  {
   "cell_type": "code",
   "execution_count": 5,
   "metadata": {
    "ExecuteTime": {
     "end_time": "2019-09-18T15:10:02.475506Z",
     "start_time": "2019-09-18T15:10:02.463584Z"
    }
   },
   "outputs": [],
   "source": [
    "import pandas as pd\n",
    "df = pd.read_csv('Budget_Options.csv')"
   ]
  },
  {
   "cell_type": "code",
   "execution_count": 6,
   "metadata": {},
   "outputs": [
    {
     "name": "stdout",
     "output_type": "stream",
     "text": [
      "Number of entries: 26367\n"
     ]
    }
   ],
   "source": [
    "print('Number of entries: %d'%df.shape[0])"
   ]
  },
  {
   "cell_type": "code",
   "execution_count": 7,
   "metadata": {
    "ExecuteTime": {
     "end_time": "2019-09-18T15:10:02.697397Z",
     "start_time": "2019-09-18T15:10:02.677903Z"
    }
   },
   "outputs": [
    {
     "data": {
      "text/html": [
       "<div>\n",
       "<style scoped>\n",
       "    .dataframe tbody tr th:only-of-type {\n",
       "        vertical-align: middle;\n",
       "    }\n",
       "\n",
       "    .dataframe tbody tr th {\n",
       "        vertical-align: top;\n",
       "    }\n",
       "\n",
       "    .dataframe thead th {\n",
       "        text-align: right;\n",
       "    }\n",
       "</style>\n",
       "<table border=\"1\" class=\"dataframe\">\n",
       "  <thead>\n",
       "    <tr style=\"text-align: right;\">\n",
       "      <th></th>\n",
       "      <th>1-vacation</th>\n",
       "      <th>1-investment-fund</th>\n",
       "      <th>1-emergency-fund</th>\n",
       "      <th>4-travel-family</th>\n",
       "      <th>12-rent</th>\n",
       "      <th>12-insurance-health</th>\n",
       "      <th>12-insurance-hsa</th>\n",
       "      <th>12-util-electric</th>\n",
       "      <th>12-util-internet</th>\n",
       "      <th>12-util-phone</th>\n",
       "      <th>12-car-gas</th>\n",
       "      <th>12-car-maintenance</th>\n",
       "      <th>12-membership-gyms</th>\n",
       "      <th>12-recreation</th>\n",
       "      <th>52-util-laundry</th>\n",
       "      <th>365-daily-food</th>\n",
       "    </tr>\n",
       "    <tr>\n",
       "      <th>Unnamed: 0</th>\n",
       "      <th></th>\n",
       "      <th></th>\n",
       "      <th></th>\n",
       "      <th></th>\n",
       "      <th></th>\n",
       "      <th></th>\n",
       "      <th></th>\n",
       "      <th></th>\n",
       "      <th></th>\n",
       "      <th></th>\n",
       "      <th></th>\n",
       "      <th></th>\n",
       "      <th></th>\n",
       "      <th></th>\n",
       "      <th></th>\n",
       "      <th></th>\n",
       "    </tr>\n",
       "  </thead>\n",
       "  <tbody>\n",
       "    <tr>\n",
       "      <th>0</th>\n",
       "      <td>3814.782973</td>\n",
       "      <td>25548.377736</td>\n",
       "      <td>5244.967100</td>\n",
       "      <td>529.636748</td>\n",
       "      <td>2022.414597</td>\n",
       "      <td>135.731432</td>\n",
       "      <td>256.608653</td>\n",
       "      <td>30.119208</td>\n",
       "      <td>19.939285</td>\n",
       "      <td>47.707012</td>\n",
       "      <td>57.540217</td>\n",
       "      <td>28.260091</td>\n",
       "      <td>75.287256</td>\n",
       "      <td>366.369787</td>\n",
       "      <td>21.085401</td>\n",
       "      <td>12.243343</td>\n",
       "    </tr>\n",
       "    <tr>\n",
       "      <th>1</th>\n",
       "      <td>5838.140030</td>\n",
       "      <td>20591.623004</td>\n",
       "      <td>4121.323077</td>\n",
       "      <td>468.360091</td>\n",
       "      <td>2176.397851</td>\n",
       "      <td>52.576675</td>\n",
       "      <td>267.256285</td>\n",
       "      <td>40.011540</td>\n",
       "      <td>35.516488</td>\n",
       "      <td>62.645169</td>\n",
       "      <td>82.893612</td>\n",
       "      <td>55.404070</td>\n",
       "      <td>122.619641</td>\n",
       "      <td>323.262981</td>\n",
       "      <td>16.723818</td>\n",
       "      <td>8.923099</td>\n",
       "    </tr>\n",
       "    <tr>\n",
       "      <th>2</th>\n",
       "      <td>4358.879192</td>\n",
       "      <td>26788.327326</td>\n",
       "      <td>2056.020503</td>\n",
       "      <td>463.349835</td>\n",
       "      <td>2040.994140</td>\n",
       "      <td>64.327350</td>\n",
       "      <td>210.486875</td>\n",
       "      <td>38.655281</td>\n",
       "      <td>32.828756</td>\n",
       "      <td>73.904905</td>\n",
       "      <td>25.029699</td>\n",
       "      <td>45.541123</td>\n",
       "      <td>258.055793</td>\n",
       "      <td>260.083084</td>\n",
       "      <td>6.123949</td>\n",
       "      <td>15.207352</td>\n",
       "    </tr>\n",
       "    <tr>\n",
       "      <th>3</th>\n",
       "      <td>4085.454972</td>\n",
       "      <td>14775.021489</td>\n",
       "      <td>9756.137445</td>\n",
       "      <td>595.503812</td>\n",
       "      <td>2174.805175</td>\n",
       "      <td>138.889478</td>\n",
       "      <td>198.344717</td>\n",
       "      <td>48.577295</td>\n",
       "      <td>46.692024</td>\n",
       "      <td>60.347288</td>\n",
       "      <td>58.492505</td>\n",
       "      <td>77.194668</td>\n",
       "      <td>227.859216</td>\n",
       "      <td>443.233952</td>\n",
       "      <td>12.966040</td>\n",
       "      <td>9.332083</td>\n",
       "    </tr>\n",
       "    <tr>\n",
       "      <th>4</th>\n",
       "      <td>4000.487014</td>\n",
       "      <td>26302.316165</td>\n",
       "      <td>2050.654740</td>\n",
       "      <td>446.250029</td>\n",
       "      <td>1924.417174</td>\n",
       "      <td>59.343171</td>\n",
       "      <td>157.765102</td>\n",
       "      <td>38.471182</td>\n",
       "      <td>16.433609</td>\n",
       "      <td>42.700074</td>\n",
       "      <td>80.436219</td>\n",
       "      <td>35.736671</td>\n",
       "      <td>61.392173</td>\n",
       "      <td>477.026434</td>\n",
       "      <td>14.557047</td>\n",
       "      <td>16.117115</td>\n",
       "    </tr>\n",
       "  </tbody>\n",
       "</table>\n",
       "</div>"
      ],
      "text/plain": [
       "             1-vacation  1-investment-fund  1-emergency-fund  4-travel-family  \\\n",
       "Unnamed: 0                                                                      \n",
       "0           3814.782973       25548.377736       5244.967100       529.636748   \n",
       "1           5838.140030       20591.623004       4121.323077       468.360091   \n",
       "2           4358.879192       26788.327326       2056.020503       463.349835   \n",
       "3           4085.454972       14775.021489       9756.137445       595.503812   \n",
       "4           4000.487014       26302.316165       2050.654740       446.250029   \n",
       "\n",
       "                12-rent  12-insurance-health  12-insurance-hsa  \\\n",
       "Unnamed: 0                                                       \n",
       "0           2022.414597           135.731432        256.608653   \n",
       "1           2176.397851            52.576675        267.256285   \n",
       "2           2040.994140            64.327350        210.486875   \n",
       "3           2174.805175           138.889478        198.344717   \n",
       "4           1924.417174            59.343171        157.765102   \n",
       "\n",
       "            12-util-electric  12-util-internet  12-util-phone  12-car-gas  \\\n",
       "Unnamed: 0                                                                  \n",
       "0                  30.119208         19.939285      47.707012   57.540217   \n",
       "1                  40.011540         35.516488      62.645169   82.893612   \n",
       "2                  38.655281         32.828756      73.904905   25.029699   \n",
       "3                  48.577295         46.692024      60.347288   58.492505   \n",
       "4                  38.471182         16.433609      42.700074   80.436219   \n",
       "\n",
       "            12-car-maintenance  12-membership-gyms  12-recreation  \\\n",
       "Unnamed: 0                                                          \n",
       "0                    28.260091           75.287256     366.369787   \n",
       "1                    55.404070          122.619641     323.262981   \n",
       "2                    45.541123          258.055793     260.083084   \n",
       "3                    77.194668          227.859216     443.233952   \n",
       "4                    35.736671           61.392173     477.026434   \n",
       "\n",
       "            52-util-laundry  365-daily-food  \n",
       "Unnamed: 0                                   \n",
       "0                 21.085401       12.243343  \n",
       "1                 16.723818        8.923099  \n",
       "2                  6.123949       15.207352  \n",
       "3                 12.966040        9.332083  \n",
       "4                 14.557047       16.117115  "
      ]
     },
     "execution_count": 7,
     "metadata": {},
     "output_type": "execute_result"
    }
   ],
   "source": [
    "df.set_index('Unnamed: 0', inplace=True)\n",
    "df.head()"
   ]
  },
  {
   "cell_type": "code",
   "execution_count": null,
   "metadata": {
    "ExecuteTime": {
     "end_time": "2019-09-18T15:21:11.176281Z",
     "start_time": "2019-09-18T15:21:10.996666Z"
    }
   },
   "outputs": [],
   "source": [
    "import plotly.graph_objects as go\n",
    "\n",
    "fig = go.Figure(data=\n",
    "    go.Parcoords(\n",
    "        line_color='blue',\n",
    "        labelangle=45,\n",
    "        dimensions = [\n",
    "            dict(range = [round(df[s].min()),round(df[s].max())],\n",
    "                 label = s, \n",
    "                 values = df[s].values) for s in list(df.columns)]\n",
    "    )\n",
    ")\n",
    "fig.show()"
   ]
  },
  {
   "cell_type": "markdown",
   "metadata": {},
   "source": [
    "## Next steps\n",
    "\n",
    "Let's say you hone in on several decisions and want to explore this part of the space more.\n",
    "Fantastic, we can do that. Basically we can re-start the problem with a distribution that covers the points selected, narrowing down each category.\n",
    "\n",
    "More naively, we can just throw another million samples at the problem and toss them into our samples.\n",
    "\n",
    "We can use the selected bars to actually only reduce the initials in those particular dimensions, solve that problem with another million, and plot the results again with the bars taking up 100/% of the axis now, allowing for exploration in the remaining budget categories."
   ]
  },
  {
   "cell_type": "code",
   "execution_count": null,
   "metadata": {},
   "outputs": [],
   "source": []
  }
 ],
 "metadata": {
  "kernelspec": {
   "display_name": "Python 3",
   "language": "python",
   "name": "python3"
  },
  "language_info": {
   "codemirror_mode": {
    "name": "ipython",
    "version": 3
   },
   "file_extension": ".py",
   "mimetype": "text/x-python",
   "name": "python",
   "nbconvert_exporter": "python",
   "pygments_lexer": "ipython3",
   "version": "3.7.3"
  },
  "latex_envs": {
   "LaTeX_envs_menu_present": true,
   "autoclose": false,
   "autocomplete": true,
   "bibliofile": "biblio.bib",
   "cite_by": "apalike",
   "current_citInitial": 1,
   "eqLabelWithNumbers": true,
   "eqNumInitial": 1,
   "hotkeys": {
    "equation": "Ctrl-E",
    "itemize": "Ctrl-I"
   },
   "labels_anchors": false,
   "latex_user_defs": false,
   "report_style_numbering": false,
   "user_envs_cfg": false
  },
  "toc": {
   "base_numbering": 1,
   "nav_menu": {},
   "number_sections": true,
   "sideBar": true,
   "skip_h1_title": false,
   "title_cell": "Table of Contents",
   "title_sidebar": "Contents",
   "toc_cell": false,
   "toc_position": {},
   "toc_section_display": true,
   "toc_window_display": false
  },
  "varInspector": {
   "cols": {
    "lenName": 16,
    "lenType": 16,
    "lenVar": 40
   },
   "kernels_config": {
    "python": {
     "delete_cmd_postfix": "",
     "delete_cmd_prefix": "del ",
     "library": "var_list.py",
     "varRefreshCmd": "print(var_dic_list())"
    },
    "r": {
     "delete_cmd_postfix": ") ",
     "delete_cmd_prefix": "rm(",
     "library": "var_list.r",
     "varRefreshCmd": "cat(var_dic_list()) "
    }
   },
   "types_to_exclude": [
    "module",
    "function",
    "builtin_function_or_method",
    "instance",
    "_Feature"
   ],
   "window_display": false
  }
 },
 "nbformat": 4,
 "nbformat_minor": 4
}
