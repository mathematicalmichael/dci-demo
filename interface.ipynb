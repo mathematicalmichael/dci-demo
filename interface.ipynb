{
 "cells": [
  {
   "cell_type": "code",
   "execution_count": 1,
   "metadata": {},
   "outputs": [],
   "source": [
    "import numpy as np\n",
    "import scipy.stats as ss\n",
    "import ipywidgets as wd\n",
    "import yaml\n",
    "import time"
   ]
  },
  {
   "cell_type": "code",
   "execution_count": 2,
   "metadata": {},
   "outputs": [],
   "source": [
    "sleeptime = 1  # delay (seconds) between messages."
   ]
  },
  {
   "cell_type": "code",
   "execution_count": 3,
   "metadata": {},
   "outputs": [],
   "source": [
    "def beta_dist(min_value=0, max_value=1, a=1, b=1):\n",
    "    return ss.beta(loc=min_value, scale=(max_value-min_value), a=a, b=b)\n",
    "\n",
    "def auto_fill(height='auto', width='auto', label=''):\n",
    "    return wd.Button(description=label, layout=auto_lay(width,height))\n",
    "\n",
    "def auto_lay(width='auto', height='auto'):\n",
    "    return wd.Layout(height=height, width=width)\n"
   ]
  },
  {
   "cell_type": "code",
   "execution_count": 4,
   "metadata": {},
   "outputs": [],
   "source": [
    "def mid_preset(min_val, max_val, confidence):\n",
    "    \"\"\"\n",
    "    Returns beta distribution parameters (symmetric)\n",
    "    \"\"\"\n",
    "    loc = min_val\n",
    "    scale = max_val - min_val\n",
    "    a = b = np.maximum(np.minimum(confidence+1,3),0.1)**2\n",
    "    return {'a': a, 'b': b, 'loc': loc, 'scale': scale}\n",
    "\n",
    "def high_preset(min_val, max_val, confidence):\n",
    "    \"\"\"\n",
    "    Returns beta distribution parameters (left skewed)\n",
    "    \"\"\"\n",
    "    loc = min_val\n",
    "    scale = max_val - min_val\n",
    "    b = np.minimum(2.5,confidence+1.5)\n",
    "    b = np.maximum(b,0.1)\n",
    "    a = 6 - b \n",
    "    return {'a': a, 'b': b, 'loc': loc, 'scale': scale}\n",
    "\n",
    "def low_preset(min_val, max_val, confidence):\n",
    "    \"\"\"\n",
    "    Returns beta distribution parameters (right skewed)\n",
    "    \"\"\"\n",
    "    loc = min_val\n",
    "    scale = max_val - min_val\n",
    "    a = np.minimum(confidence+1.5,2.5)\n",
    "    a = np.maximum(a,0.1)\n",
    "    b = 6 - a \n",
    "    return {'a': a, 'b': b, 'loc': loc, 'scale': scale}"
   ]
  },
  {
   "cell_type": "code",
   "execution_count": 18,
   "metadata": {},
   "outputs": [],
   "source": [
    "def make_preset_grid():\n",
    "    \"\"\"\n",
    "    Return grid layout (2x3) with three buttons and a slider,\n",
    "    for preset definitions.\n",
    "    \"\"\"\n",
    "    presets = wd.GridspecLayout(2,3)\n",
    "    btn_left = wd.Button(description='left', layout=auto_lay())\n",
    "    btn_cent= wd.Button(description='center', layout=auto_lay())\n",
    "    btn_right = wd.Button(description='right', layout=auto_lay())\n",
    "    opt_slide = wd.FloatSlider(description='shape', value=0, min=0,max=1,step=0.1,\n",
    "                               layout=auto_lay())\n",
    "    presets[0,0] = btn_left\n",
    "    presets[0,1] = btn_cent\n",
    "    presets[0,2] = btn_right\n",
    "    presets[1,:] = opt_slide\n",
    "    return presets, [btn_left, btn_cent, btn_right], opt_slide"
   ]
  },
  {
   "cell_type": "code",
   "execution_count": 6,
   "metadata": {},
   "outputs": [],
   "source": [
    "def make_db_setter(DB):\n",
    "    param_setter = wd.GridspecLayout(2,3)#, layout=wd.Layout(height='auto', width='auto'))\n",
    "    param_list = list(DB.keys())\n",
    "    param_dropdown = wd.Dropdown(options=param_list, description='Dim',layout=wd.Layout(height='100%', width='auto'))\n",
    "    param_setter[0,0:2] = param_dropdown\n",
    "    param_text = wd.Text(description = 'Name', layout=wd.Layout(height='100%', width='100%'))\n",
    "    param_setter[1,0:2] = param_text\n",
    "\n",
    "    add_button = wd.Button(description='add', layout=wd.Layout(height='100%', width='80%'))\n",
    "    rem_button  = wd.Button(description='rem', layout=wd.Layout(height='100%', width='20%'))\n",
    "\n",
    "    param_setter[1,2] = wd.HBox([rem_button, add_button])\n",
    "    info = wd.Label()\n",
    "    param_setter[0,2] = info\n",
    "    return param_setter, [info, param_dropdown, param_text, add_button, rem_button]"
   ]
  },
  {
   "cell_type": "code",
   "execution_count": 27,
   "metadata": {},
   "outputs": [],
   "source": [
    "beta_setter = wd.GridspecLayout(2,2, layout=wd.Layout(height='auto', width='auto'))\n",
    "min_txt = wd.FloatText(value=0, description=\"MIN\", layout=wd.Layout(height='auto', width='auto'))\n",
    "max_txt = wd.FloatText(value=1, description=\"MAX\", layout=wd.Layout(height='auto', width='auto'))\n",
    "beta_setter[0,0] = min_txt\n",
    "beta_setter[0,1] = max_txt\n",
    "a = wd.FloatSlider(value=1, min=0, max=10, description='a', layout=wd.Layout(height='auto', width='auto'))\n",
    "b = wd.FloatSlider(value=1, min=0, max=10, description='b', layout=wd.Layout(height='auto', width='auto'))\n",
    "beta_setter[1,0] = a\n",
    "beta_setter[1,1] = b"
   ]
  },
  {
   "cell_type": "code",
   "execution_count": 36,
   "metadata": {},
   "outputs": [],
   "source": [
    "# Initiate (Empty) Database\n",
    "\n",
    "DB = {}\n",
    "db_name = 'db.yaml'\n",
    "# with open(db_name, 'w') as db:\n",
    "#     yaml.dump(DB, db)"
   ]
  },
  {
   "cell_type": "code",
   "execution_count": 37,
   "metadata": {},
   "outputs": [],
   "source": [
    "with open(db_name, 'r') as db:\n",
    "        DB = yaml.load(db, Loader=yaml.FullLoader)"
   ]
  },
  {
   "cell_type": "code",
   "execution_count": 38,
   "metadata": {},
   "outputs": [],
   "source": [
    "param_setter, widgets = make_db_setter(DB)\n",
    "info, param_dropdown, param_text, add_button, rem_button = widgets\n",
    "\n",
    "presets, buttons, opt_slide = make_preset_grid()\n",
    "btn_left, btn_cent, btn_right = buttons"
   ]
  },
  {
   "cell_type": "code",
   "execution_count": 39,
   "metadata": {},
   "outputs": [],
   "source": [
    "def get_states(*args):\n",
    "    \"\"\"\n",
    "    Read states from sliders.\n",
    "    \"\"\"\n",
    "    if min_txt.value > max_txt.value:\n",
    "        info.value = \"Min > Max. Switching...\"\n",
    "        time.sleep(sleeptime)\n",
    "        info.value = \"\"\n",
    "        mn, mx = np.copy(max_txt.value), np.copy(min_txt.value)\n",
    "        max_txt.value = mx\n",
    "        min_txt.value = mn\n",
    "    vals = [min_txt.value, max_txt.value]\n",
    "    return {'loc': vals[0], 'scale': vals[1] - vals[0], 'a': a.value, 'b': b.value}\n",
    "\n",
    "def update_state(state):\n",
    "    \"\"\"\n",
    "    Set states on sliders.\n",
    "    \"\"\"\n",
    "    max_txt.value = state['loc'] + state['scale']\n",
    "    min_txt.value = state['loc']\n",
    "    a.value = state['a']\n",
    "    b.value = state['b']\n",
    "\n",
    "def add_key(*args):\n",
    "    with open(db_name, 'r') as db:\n",
    "        DB = yaml.load(db, Loader=yaml.FullLoader)\n",
    "    key_list = DB.keys() # grab keys from back-end\n",
    "    \n",
    "    txt = param_text.value.replace(' ', '_')\n",
    "    if len(txt) > 0:\n",
    "        states = get_states(args)\n",
    "        \n",
    "        # if adding a new entry, copy over existing info.\n",
    "        if txt not in key_list: \n",
    "            state_of_operation = \"added\"\n",
    "        else:  # overwriting\n",
    "            state_of_operation = \"overwritten\"\n",
    "\n",
    "        DB[txt] = get_states(args)\n",
    "        info.value = txt + \" : \" + \" has been %s.\"%state_of_operation\n",
    "        time.sleep(sleeptime)\n",
    "#         info.value = \" \"\n",
    "#         # clean up list\n",
    "#         if 'default' in key_list:\n",
    "#             DB.pop('default')\n",
    "        with open(db_name, 'w') as db:\n",
    "            yaml.dump(DB, db)\n",
    "        param_dropdown.options = list(DB.keys())\n",
    "        param_dropdown.value = txt\n",
    "    else:\n",
    "        info.value = \"Nothing was entered.\"\n",
    "\n",
    "\n",
    "def lookup_key(*args):\n",
    "    with open(db_name, 'r') as db:\n",
    "        DB = yaml.load(db, Loader=yaml.FullLoader)\n",
    "    try:\n",
    "        state = DB[param_dropdown.value]\n",
    "        # TODO: Set states\n",
    "#         param_text.value = param_dropdown.value\n",
    "        param_text.value = \"\" # clear\n",
    "        max_txt.value = state['loc'] + state['scale']\n",
    "        min_txt.value = state['loc']\n",
    "        a.value = state['a']\n",
    "        b.value = state['b']\n",
    "        info.value = \"Loaded database state.\"\n",
    "    except KeyError:\n",
    "        info.value = \"No matching entry.\"\n",
    "    except:  # attempting to set empty string\n",
    "        pass\n",
    "    time.sleep(sleeptime)\n",
    "#     info.value = \"\"\n",
    "\n",
    "\n",
    "def remove_var(*args):\n",
    "    with open(db_name, 'r') as db:\n",
    "        DB = yaml.load(db, Loader=yaml.FullLoader)\n",
    "    txt = param_text.value.replace(' ', '_')\n",
    "    if len(txt) > 0:\n",
    "        if txt in list(DB.keys()): # if key exists, remove it\n",
    "            info.value = \"%s was removed.\"%param_dropdown.value\n",
    "            DB.pop(txt)\n",
    "            with open(db_name, 'w') as db:\n",
    "                    yaml.dump(DB, db)\n",
    "            time.sleep(sleeptime)\n",
    "            param_dropdown.options = list(DB.keys())\n",
    "        else:  # otherwise raise error\n",
    "            info.value = \"Entry not in database.\"\n",
    "            time.sleep(sleeptime)\n",
    "#         info.value = \"\"\n",
    "        # update dropdown\n",
    "        if len(param_dropdown.value) == 0:  # empty entry\n",
    "            pass\n",
    "        else:\n",
    "            param_text.value = param_dropdown.value\n",
    "    else:\n",
    "        info.value = \"Please enter some text.\"\n",
    "        time.sleep(sleeptime)\n",
    "#         info.value = \"\"\n",
    "        \n",
    "        \n",
    "def preset_btn_left(*args):\n",
    "    state = low_preset(min_txt.value,max_txt.value,opt_slide.value)\n",
    "    update_state(state)\n",
    "    \n",
    "def preset_btn_cent(*args):\n",
    "    state = mid_preset(min_txt.value,max_txt.value,opt_slide.value)\n",
    "    update_state(state)\n",
    "    \n",
    "def preset_btn_right(*args):\n",
    "    state = high_preset(min_txt.value,max_txt.value,opt_slide.value)\n",
    "    update_state(state)\n",
    "    \n",
    "btn_left.on_click(preset_btn_left)\n",
    "btn_cent.on_click(preset_btn_cent)\n",
    "btn_right.on_click(preset_btn_right)\n",
    "\n",
    "param_dropdown.observe(lookup_key, 'value')\n",
    "rem_button.on_click(remove_var)\n",
    "add_button.on_click(add_key)\n",
    "# lookup_key()"
   ]
  },
  {
   "cell_type": "code",
   "execution_count": 40,
   "metadata": {},
   "outputs": [],
   "source": [
    "# head = wd.Label(\"Potential Value\",layout=wd.Layout(height='auto', width='auto'))\n",
    "# foot = wd.IntSlider(layout=wd.Layout(height='auto', width='auto'))\n",
    "# left = None\n",
    "# cent = auto_fill()\n",
    "# right = None"
   ]
  },
  {
   "cell_type": "code",
   "execution_count": 41,
   "metadata": {},
   "outputs": [],
   "source": [
    "# APP = wd.AppLayout(header=None, \n",
    "#              footer=None,\n",
    "#              left_sidebar=param_setter,\n",
    "#              right_sidebar=beta_setter,\n",
    "#              center=None)"
   ]
  },
  {
   "cell_type": "code",
   "execution_count": 42,
   "metadata": {},
   "outputs": [],
   "source": [
    "# display(APP)"
   ]
  },
  {
   "cell_type": "code",
   "execution_count": 43,
   "metadata": {},
   "outputs": [],
   "source": [
    "G = wd.GridspecLayout(10,2)\n",
    "G[0,:] = param_setter\n",
    "# G[1,0] = auto_fill(height='10%')\n",
    "G[1,:] = beta_setter\n",
    "# G[0:2,:] = auto_fill(label=\"SETTINGS\")\n",
    "G[2:4,:] = presets\n",
    "G[4:9,0] = auto_fill(label='PLOT')\n",
    "G[4:9,1] = auto_fill(label='PLOT')\n",
    "# G[7,:] = beta_setter\n",
    "# G[8,:] = param_setter\n",
    "G[9:10,0:] = auto_fill(label='RUN')\n",
    "# G[,2] = wd.Button(layout=wd.Layout(height='auto', width='50%'))\n",
    "# G[:,2] = wd.Button(layout=wd.Layout(height='auto', width='auto'))"
   ]
  },
  {
   "cell_type": "code",
   "execution_count": 44,
   "metadata": {},
   "outputs": [
    {
     "data": {
      "application/vnd.jupyter.widget-view+json": {
       "model_id": "65607ec703b74af795a6e39414441201",
       "version_major": 2,
       "version_minor": 0
      },
      "text/plain": [
       "GridspecLayout(children=(GridspecLayout(children=(Dropdown(description='Dim', layout=Layout(grid_area='widget0…"
      ]
     },
     "metadata": {},
     "output_type": "display_data"
    }
   ],
   "source": [
    "display(G)"
   ]
  },
  {
   "cell_type": "code",
   "execution_count": 45,
   "metadata": {},
   "outputs": [
    {
     "data": {
      "text/plain": [
       "{'one': {'a': 1.5, 'b': 4.5, 'loc': 0.0, 'scale': 1.0},\n",
       " 'two': {'a': 4.5, 'b': 1.5, 'loc': 0.0, 'scale': 1.0}}"
      ]
     },
     "execution_count": 45,
     "metadata": {},
     "output_type": "execute_result"
    }
   ],
   "source": [
    "with open(db_name, 'r') as db:\n",
    "        DB = yaml.load(db, Loader=yaml.FullLoader)\n",
    "DB"
   ]
  },
  {
   "cell_type": "code",
   "execution_count": null,
   "metadata": {},
   "outputs": [],
   "source": []
  },
  {
   "cell_type": "code",
   "execution_count": null,
   "metadata": {},
   "outputs": [],
   "source": [
    "mid_preset(0,1,1)"
   ]
  },
  {
   "cell_type": "code",
   "execution_count": null,
   "metadata": {},
   "outputs": [],
   "source": [
    "low_preset(0,1,10)"
   ]
  },
  {
   "cell_type": "code",
   "execution_count": null,
   "metadata": {},
   "outputs": [],
   "source": [
    "import matplotlib.pyplot as plt"
   ]
  },
  {
   "cell_type": "code",
   "execution_count": null,
   "metadata": {},
   "outputs": [],
   "source": [
    "# %matplotlib widget "
   ]
  },
  {
   "cell_type": "code",
   "execution_count": null,
   "metadata": {},
   "outputs": [],
   "source": [
    "def compare_plots(val):\n",
    "    x = np.linspace(0,1,100)\n",
    "    plt.plot(x, ss.beta(**low_preset(0,1,val)).pdf(x))\n",
    "    plt.plot(x, ss.beta(**mid_preset(0,1,val)).pdf(x))\n",
    "    plt.plot(x, ss.beta(**high_preset(0,1,val)).pdf(x))\n",
    "    plt.show()"
   ]
  },
  {
   "cell_type": "code",
   "execution_count": null,
   "metadata": {},
   "outputs": [],
   "source": [
    "wd.interactive(compare_plots, val=wd.FloatSlider(value=2,min=0,max=1,step=0.1))"
   ]
  },
  {
   "cell_type": "code",
   "execution_count": null,
   "metadata": {},
   "outputs": [],
   "source": []
  },
  {
   "cell_type": "code",
   "execution_count": null,
   "metadata": {},
   "outputs": [],
   "source": []
  },
  {
   "cell_type": "code",
   "execution_count": null,
   "metadata": {},
   "outputs": [],
   "source": [
    "cc = wd.Controller()\n",
    "cc"
   ]
  },
  {
   "cell_type": "code",
   "execution_count": null,
   "metadata": {},
   "outputs": [],
   "source": []
  },
  {
   "cell_type": "code",
   "execution_count": null,
   "metadata": {},
   "outputs": [],
   "source": []
  }
 ],
 "metadata": {
  "kernelspec": {
   "display_name": "Python 3",
   "language": "python",
   "name": "python3"
  },
  "language_info": {
   "codemirror_mode": {
    "name": "ipython",
    "version": 3
   },
   "file_extension": ".py",
   "mimetype": "text/x-python",
   "name": "python",
   "nbconvert_exporter": "python",
   "pygments_lexer": "ipython3",
   "version": "3.7.3"
  }
 },
 "nbformat": 4,
 "nbformat_minor": 4
}
