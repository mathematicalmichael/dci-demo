{
 "cells": [
  {
   "cell_type": "code",
   "execution_count": 1,
   "metadata": {},
   "outputs": [],
   "source": [
    "import numpy as np\n",
    "import scipy.stats as ss\n",
    "import ipywidgets as wd\n",
    "import pandas as pd\n",
    "import yaml\n",
    "import time\n",
    "import os\n",
    "import matplotlib.pyplot as plt"
   ]
  },
  {
   "cell_type": "code",
   "execution_count": 46,
   "metadata": {},
   "outputs": [
    {
     "name": "stderr",
     "output_type": "stream",
     "text": [
      "2019-10-11 14:02:37,612 [root - MainThread] [INFO]  test\n"
     ]
    }
   ],
   "source": [
    "import sys\n",
    "import logging\n",
    "\n",
    "# # Take care of some logging\n",
    "# # Remove all handlers associated with the root logger object.\n",
    "# for handler in logging.root.handlers[:]:\n",
    "#     logging.root.removeHandler(handler)\n",
    "# logging.basicConfig(filename='example.log',level=logging.INFO, filemode='w', format=\"%(asctime)s [%(name)s - %(threadName)s] [%(levelname)s]  %(message)s\", datefmt='%m/%d/%Y %I:%M:%S %p')\n",
    "# logging.getLogger().addHandler(logging.StreamHandler(sys.stderr))\n",
    "\n",
    "logPath, fileName = os.getcwd(), 'interface_logger'\n",
    "logging.basicConfig(\n",
    "    level=logging.INFO,\n",
    "    format=\"%(asctime)s [%(name)s - %(threadName)s] [%(levelname)s]  %(message)s\",\n",
    "    handlers=[\n",
    "        logging.FileHandler(\"{0}/{1}.log\".format(logPath, fileName)),\n",
    "        logging.StreamHandler()\n",
    "    ])\n",
    "\n",
    "logger = logging.getLogger()\n",
    "logger.info(\"test\")\n",
    "## Test logger functionality: \n",
    "# logging.warning('This is a warning message this should be printed on your console, its level is above the set level')\n",
    "# logging.info('This is an info message it should be printed now!')\n",
    "# logging.debug('This is a debug message which will not be shown, its level is below the set level')"
   ]
  },
  {
   "cell_type": "code",
   "execution_count": 47,
   "metadata": {},
   "outputs": [],
   "source": [
    "sleeptime = 1  # delay (seconds) between messages."
   ]
  },
  {
   "cell_type": "code",
   "execution_count": 48,
   "metadata": {},
   "outputs": [],
   "source": [
    "def beta_dist(min_value=0, max_value=1, a=1, b=1):\n",
    "    return ss.beta(loc=min_value, scale=(max_value-min_value), a=a, b=b)\n",
    "\n",
    "def auto_fill(height='auto', width='auto', label=''):\n",
    "    return wd.Button(description=label, layout=auto_lay(width,height))\n",
    "\n",
    "def auto_lay(width='auto', height='auto'):\n",
    "    return wd.Layout(height=height, width=width)"
   ]
  },
  {
   "cell_type": "code",
   "execution_count": 49,
   "metadata": {},
   "outputs": [],
   "source": [
    "def generate_sample_dict(S:dict):\n",
    "    P = S.dist # take a sample set that has input samples already generated.\n",
    "    lam = S.samples\n",
    "    V = {n:{v: None for v in P.vars} for n in P.names}\n",
    "    for d in range(S.dim):\n",
    "        p_info = P.params[d].rsplit('-')\n",
    "        V[p_info[1]][p_info[0]] = lam[:,d]\n",
    "    return V\n",
    "\n",
    "def generate_samples_from_dict(D:dict, num_samples:int=1) -> np.array:\n",
    "    r\"\"\"\n",
    "     This module takes a nested dictionary (one inside another) \n",
    "     which contains the description of the distribution in the parameters,\n",
    "     and generates the samples described therein.\n",
    "    \"\"\"\n",
    "    samples = {}\n",
    "    for outer_key in D.keys():\n",
    "        for inner_key in D[outer_key].keys():\n",
    "            variable_name = \"%s-%s\"%(str(outer_key).replace(' ', '_'),\n",
    "                                     str(inner_key).replace(' ', '_'))\n",
    "            \n",
    "            distribution_params = D[outer_key][inner_key]\n",
    "            distribution = ss.beta(**distribution_params)\n",
    "            \n",
    "            random_samples = distribution.rvs(int(num_samples))\n",
    "            \n",
    "            samples[variable_name] = {}\n",
    "            samples[variable_name] = random_samples\n",
    "            \n",
    "    return samples\n",
    "\n",
    "def sum_it_all(D:dict):\n",
    "    r\"\"\"\n",
    "    The first element in the keys of D (split by \"-\") is taken to be the\n",
    "    frequency with which an event occurs. It will be parsed as a float.\n",
    "    \"\"\"\n",
    "    num_samples = len(D[list(D.keys())[0]])\n",
    "    # I think this may end up faster than vectorizing for large n...\n",
    "    # don't have to keep multi-dim array in memory, just a (nx1)-dimensional one.\n",
    "    cum_sum = np.zeros((num_samples,1))\n",
    "    for outer_key in D.keys():\n",
    "        frequency = float(outer_key.split('-')[0])\n",
    "        samples = D[outer_key].reshape(-1,1)\n",
    "        cum_sum += samples*frequency\n",
    "    return cum_sum\n",
    "\n",
    "def db_to_pushforward(DB:dict, num_samples:int=10):\n",
    "    S = generate_samples_from_dict(DB, num_samples)\n",
    "    summed_samples = sum_it_all(S)\n",
    "    mn, mx = summed_samples.min(), summed_samples.max()\n",
    "    x = np.linspace(mn, mx, 1000)\n",
    "    kde = ss.gaussian_kde(summed_samples.reshape(1,-1))\n",
    "    y = kde.pdf(x)\n",
    "    arr = np.array([item[1] for item in S.items()]).T  # numpy array of samples\n",
    "    return (x, y, summed_samples, kde, arr, S)\n"
   ]
  },
  {
   "cell_type": "code",
   "execution_count": 50,
   "metadata": {},
   "outputs": [],
   "source": [
    "def mid_preset(min_val, max_val, confidence):\n",
    "    \"\"\"\n",
    "    Returns beta distribution parameters (symmetric)\n",
    "    \"\"\"\n",
    "    loc = min_val\n",
    "    scale = max_val - min_val\n",
    "    a = b = np.maximum(np.minimum(confidence+1,3),0.1)**2\n",
    "    return {'a': a, 'b': b, 'loc': loc, 'scale': scale}\n",
    "\n",
    "def high_preset(min_val, max_val, confidence):\n",
    "    \"\"\"\n",
    "    Returns beta distribution parameters (left skewed)\n",
    "    \"\"\"\n",
    "    loc = min_val\n",
    "    scale = max_val - min_val\n",
    "    b = np.minimum(2.5,confidence+1.5)\n",
    "    b = np.maximum(b,0.1)\n",
    "    a = 6 - b \n",
    "    return {'a': a, 'b': b, 'loc': loc, 'scale': scale}\n",
    "\n",
    "def low_preset(min_val, max_val, confidence):\n",
    "    \"\"\"\n",
    "    Returns beta distribution parameters (right skewed)\n",
    "    \"\"\"\n",
    "    loc = min_val\n",
    "    scale = max_val - min_val\n",
    "    a = np.minimum(confidence+1.5,2.5)\n",
    "    a = np.maximum(a,0.1)\n",
    "    b = 6 - a \n",
    "    return {'a': a, 'b': b, 'loc': loc, 'scale': scale}"
   ]
  },
  {
   "cell_type": "code",
   "execution_count": 51,
   "metadata": {},
   "outputs": [],
   "source": [
    "def make_preset_grid():\n",
    "    \"\"\"\n",
    "    Return grid layout (1x2) with three buttons and a slider,\n",
    "    for preset definitions.\n",
    "    \"\"\"\n",
    "    presets = wd.GridspecLayout(2,1)\n",
    "#     btn_left = wd.Button(description='left', layout=auto_lay())\n",
    "#     btn_cent= wd.Button(description='center', layout=auto_lay())\n",
    "#     btn_right = wd.Button(description='right', layout=auto_lay())\n",
    "#     presets[0,0] = btn_left\n",
    "#     presets[0,1] = btn_cent\n",
    "#     presets[0,2] = btn_right\n",
    "    \n",
    "    opt_slide = wd.FloatSlider(description='normalcy', value=0, min=0,max=1,step=0.1,\n",
    "                               layout=auto_lay('100%', 'auto'),\n",
    "                               continuous_update=False)\n",
    "    options = wd.Dropdown(description=\"Uncertainty\",\n",
    "                          options=['centered', 'left-leaning', 'right-leaning'],\n",
    "                          layout=auto_lay('100%', 'auto'))\n",
    "    \n",
    "    presets[1,0] = opt_slide\n",
    "    presets[0,0] = options\n",
    "    logging.info(\"Preset grid created.\")\n",
    "#     return presets, [btn_left, btn_cent, btn_right], opt_slide\n",
    "    return presets, options, opt_slide"
   ]
  },
  {
   "cell_type": "code",
   "execution_count": 52,
   "metadata": {},
   "outputs": [],
   "source": [
    "freq_list = [1,2,4,6,12,24,26,52,365]\n",
    "def make_db_setter(DB):\n",
    "    param_setter = wd.GridspecLayout(2,3)#, layout=auto_lay())\n",
    "    freq_dropdown = wd.Dropdown(value=1, options=freq_list, description='Frequency', layout=auto_lay('30%') )\n",
    "    param_list = list(DB[freq_dropdown.value].keys())\n",
    "    logging.info(\"Loaded entries for %s-per-year expenses.\"%freq_dropdown.value)\n",
    "    param_dropdown = wd.Dropdown(options=param_list, description='Item',layout=auto_lay('70%'))\n",
    "    \n",
    "    param_text = wd.Text(description = 'Description', layout=wd.Layout(height='auto', width='100%'))\n",
    "    param_setter[1,0:2] = param_text\n",
    "\n",
    "    add_button = wd.Button(description='add', layout=wd.Layout(height='100%', width='100%'))\n",
    "    rem_button  = wd.Button(description='remove', layout=wd.Layout(height='100%', width='100%'))\n",
    "\n",
    "    param_setter[1,2] = wd.HBox([rem_button, add_button])\n",
    "    info = wd.Label(layout=auto_lay())\n",
    "    \n",
    "    param_setter[0,1:3] = wd.HBox([param_dropdown, freq_dropdown])\n",
    "    param_setter[0,0] = info\n",
    "    info.value = \"Enter cost and how often it occurs:\"\n",
    "    logging.info(\"Initialized database-setting GUI.\")\n",
    "    return param_setter, [info, param_dropdown, param_text, add_button, rem_button, freq_dropdown]"
   ]
  },
  {
   "cell_type": "code",
   "execution_count": 53,
   "metadata": {},
   "outputs": [],
   "source": [
    "beta_setter = wd.GridspecLayout(3,2, layout=auto_lay())\n",
    "min_txt = wd.FloatText(value=0, description=\"MIN ($)\", layout=auto_lay())\n",
    "max_txt = wd.FloatText(value=1, description=\"MAX ($)\", layout=auto_lay())\n",
    "beta_setter[0,0] = min_txt\n",
    "beta_setter[0,1] = max_txt\n",
    "a = wd.FloatSlider(value=1, min=0, max=10, description='a', layout=auto_lay(), disabled=False)\n",
    "b = wd.FloatSlider(value=1, min=0, max=10, description='b', layout=auto_lay(), disabled=False)\n",
    "\n",
    "beta_setter[1,0] = wd.Label(\"Enter min/max values for item.\", layout=auto_lay()) \n",
    "beta_setter[1,1] = wd.Label(\"Play with slider until plot reflects preferences.\", layout=auto_lay())\n",
    "\n",
    "beta_setter[2,0] = a \n",
    "beta_setter[2,1] = b\n"
   ]
  },
  {
   "cell_type": "code",
   "execution_count": 54,
   "metadata": {},
   "outputs": [
    {
     "name": "stderr",
     "output_type": "stream",
     "text": [
      "2019-10-11 14:02:39,074 [root - MainThread] [INFO]  Database found, loaded.\n"
     ]
    }
   ],
   "source": [
    "# Initiate (Empty) Database or Load Existing One.\n",
    "db_name = 'db.yaml'\n",
    "if not os.path.exists(db_name):\n",
    "    logging.info('No database found. Initializing.')\n",
    "    with open(db_name, 'w') as db:\n",
    "        DB = {freq: {} for freq in freq_list}  # populate outer-level keys with frequencies\n",
    "        yaml.dump(DB, db)\n",
    "else:\n",
    "    logging.info(\"Database found, loaded.\")\n",
    "    with open(db_name, 'r') as db:\n",
    "        DB = yaml.load(db, Loader=yaml.FullLoader)"
   ]
  },
  {
   "cell_type": "code",
   "execution_count": 55,
   "metadata": {},
   "outputs": [
    {
     "name": "stderr",
     "output_type": "stream",
     "text": [
      "2019-10-11 14:02:49,591 [root - MainThread] [INFO]  Loaded entries for 1-per-year expenses.\n",
      "2019-10-11 14:02:49,721 [root - MainThread] [INFO]  Initialized database-setting GUI.\n",
      "2019-10-11 14:02:49,744 [root - MainThread] [INFO]  Preset grid created.\n"
     ]
    }
   ],
   "source": [
    "param_setter, widgets = make_db_setter(DB)\n",
    "info, param_dropdown, param_text, add_button, rem_button, freq_dropdown = widgets\n",
    "\n",
    "presets, options, opt_slide = make_preset_grid()\n",
    "# btn_left, btn_cent, btn_right = buttons"
   ]
  },
  {
   "cell_type": "code",
   "execution_count": 56,
   "metadata": {},
   "outputs": [],
   "source": [
    "def get_states(*args):\n",
    "    \"\"\"\n",
    "    Read states from sliders.\n",
    "    \"\"\"\n",
    "    if min_txt.value > max_txt.value:\n",
    "        info.value = \"Min > Max. Switching...\"\n",
    "        time.sleep(sleeptime)\n",
    "        info.value = \"\"\n",
    "        mn, mx = np.copy(max_txt.value), np.copy(min_txt.value)\n",
    "        max_txt.value = mx\n",
    "        min_txt.value = mn\n",
    "    vals = [min_txt.value, max_txt.value]\n",
    "    return {'loc': vals[0], 'scale': vals[1] - vals[0], 'a': a.value, 'b': b.value}\n",
    "\n",
    "def update_state(state):\n",
    "    \"\"\"\n",
    "    Set states on sliders.\n",
    "    \"\"\"\n",
    "    max_txt.value = state['loc'] + state['scale']\n",
    "    min_txt.value = state['loc']\n",
    "    a.value = state['a']\n",
    "    b.value = state['b']\n",
    "\n",
    "def add_key(*args):\n",
    "    with open(db_name, 'r') as db:\n",
    "        DB = yaml.load(db, Loader=yaml.FullLoader)\n",
    "    freq = freq_dropdown.value\n",
    "    key_list = DB[freq].keys() # grab keys from back-end\n",
    "    \n",
    "    txt = param_text.value.replace(' ', '_')\n",
    "    if len(txt) > 0:\n",
    "        states = get_states(args)\n",
    "        \n",
    "        # if adding a new entry, copy over existing info.\n",
    "        if txt not in key_list: \n",
    "            state_of_operation = \"added\"\n",
    "        else:  # overwriting\n",
    "            state_of_operation = \"overwritten\"\n",
    "\n",
    "        DB[freq][txt] = get_states(args)\n",
    "        info.value = txt + \" : \" + \" has been %s.\"%state_of_operation\n",
    "        time.sleep(sleeptime)\n",
    "#         info.value = \" \"\n",
    "#         # clean up list\n",
    "#         if 'default' in key_list:\n",
    "#             DB[freq].pop('default')\n",
    "        with open(db_name, 'w') as db:\n",
    "            yaml.dump(DB, db)\n",
    "        param_dropdown.options = list(DB[freq].keys())\n",
    "        param_dropdown.value = txt\n",
    "    else:\n",
    "        info.value = \"Nothing was entered.\"\n",
    "\n",
    "\n",
    "def lookup_key(*args):\n",
    "    with open(db_name, 'r') as db:\n",
    "        DB = yaml.load(db, Loader=yaml.FullLoader)\n",
    "    try:\n",
    "        existing_keys = DB[freq_dropdown.value].keys()\n",
    "        logging.info('Looked up entry for %d, keys of length %d'%(int(freq_dropdown.value), len(existing_keys)))\n",
    "        if len(existing_keys) == 0:\n",
    "            info.value = \"Category contains no entries.\"\n",
    "            param_dropdown.options = existing_keys\n",
    "            param_dropdown.value = \"\"\n",
    "        else:  # if there is data, overwrite the options\n",
    "            param_dropdown.options = existing_keys\n",
    "\n",
    "            state = DB[freq_dropdown.value][param_dropdown.value]\n",
    "            # TODO: Set states\n",
    "    #         param_text.value = param_dropdown.value\n",
    "            param_text.value = \"\" # clear\n",
    "            max_txt.value = state['loc'] + state['scale']\n",
    "            min_txt.value = state['loc']\n",
    "            a.value = state['a']\n",
    "            b.value = state['b']\n",
    "            info.value = \"Loaded database state.\"\n",
    "    except KeyError:\n",
    "        info.value = \"No matching entry.\"\n",
    "        logging.debug(\"No matching entry encountered. This should be an unreachable state.\")\n",
    "    except:  # attempting to set empty string\n",
    "        pass\n",
    "    time.sleep(sleeptime)\n",
    "    info.value = \"\"\n",
    "\n",
    "\n",
    "def remove_var(*args):\n",
    "    with open(db_name, 'r') as db:\n",
    "        DB = yaml.load(db, Loader=yaml.FullLoader)\n",
    "    freq = freq_dropdown.value\n",
    "    txt = param_text.value.replace(' ', '_')\n",
    "    if len(txt) > 0:\n",
    "        if txt in list(DB[freq].keys()): # if key exists, remove it\n",
    "            info.value = \"%s was removed.\"%param_dropdown.value\n",
    "            DB[freq].pop(txt)\n",
    "            with open(db_name, 'w') as db:\n",
    "                    yaml.dump(DB, db)\n",
    "            time.sleep(sleeptime)\n",
    "            param_dropdown.options = list(DB[freq].keys())\n",
    "        else:  # otherwise raise error\n",
    "            info.value = \"Entry not in database.\"\n",
    "            time.sleep(sleeptime)\n",
    "#         info.value = \"\"\n",
    "        # update dropdown\n",
    "        if len(param_dropdown.value) == 0:  # empty entry\n",
    "            pass\n",
    "        else:\n",
    "            param_text.value = param_dropdown.value\n",
    "    else:\n",
    "        info.value = \"Please enter some text.\"\n",
    "        time.sleep(sleeptime)\n",
    "#         info.value = \"\"\n",
    "        \n",
    "        \n",
    "def preset_btn_left(*args):\n",
    "    state = low_preset(min_txt.value, max_txt.value, opt_slide.value)\n",
    "    update_state(state)\n",
    "    \n",
    "def preset_btn_cent(*args):\n",
    "    state = mid_preset(min_txt.value, max_txt.value, opt_slide.value)\n",
    "    update_state(state)\n",
    "    \n",
    "def preset_btn_right(*args):\n",
    "    state = high_preset(min_txt.value, max_txt.value, opt_slide.value)\n",
    "    update_state(state)\n",
    "\n",
    "# btn_left.on_click(preset_btn_left)\n",
    "# btn_cent.on_click(preset_btn_cent)\n",
    "# btn_right.on_click(preset_btn_right)\n",
    "\n",
    "param_dropdown.observe(lookup_key, 'value')\n",
    "freq_dropdown.observe(lookup_key, 'value')\n",
    "rem_button.on_click(remove_var)\n",
    "add_button.on_click(add_key)\n",
    "# lookup_key()"
   ]
  },
  {
   "cell_type": "code",
   "execution_count": 57,
   "metadata": {},
   "outputs": [],
   "source": [
    "# head = wd.Label(\"Potential Value\",layout=auto_lay())\n",
    "# foot = wd.IntSlider(layout=auto_lay())\n",
    "# left = None\n",
    "# cent = auto_fill()\n",
    "# right = None"
   ]
  },
  {
   "cell_type": "code",
   "execution_count": 58,
   "metadata": {},
   "outputs": [],
   "source": [
    "# APP = wd.AppLayout(header=None, \n",
    "#              footer=None,\n",
    "#              left_sidebar=param_setter,\n",
    "#              right_sidebar=beta_setter,\n",
    "#              center=None)"
   ]
  },
  {
   "cell_type": "code",
   "execution_count": 59,
   "metadata": {},
   "outputs": [],
   "source": [
    "# display(APP)"
   ]
  },
  {
   "cell_type": "code",
   "execution_count": 60,
   "metadata": {},
   "outputs": [],
   "source": [
    "out_kde = wd.Output(layout=auto_lay('100%', '100%'))\n",
    "out_prev = wd.Output(layout=auto_lay('100%', '100%'))\n",
    "\n",
    "plt.rcParams['figure.figsize'] = 7,4\n",
    "\n",
    "def get_observed():\n",
    "    dist = ss.beta(a=1,b=1,loc=desired.value[0], scale=desired.value[1] - desired.value[0])\n",
    "    return dist\n",
    "\n",
    "@out_kde.capture(clear_output=True, wait=True)\n",
    "def mykde():\n",
    "    \"\"\"\n",
    "    \"\"\"\n",
    "    kde_info.value = \"Determining possible budget totals.\"\n",
    "    x, y, summed_samples, kde, arr, S = db_to_pushforward(DB, samples.value)\n",
    "    desired.max = x[-1]\n",
    "    desired.min = x[0]\n",
    "    \n",
    "    time.sleep(sleeptime)\n",
    "    kde_info.value = \"Plotting\"\n",
    "    # set slider to full uncertainty if first-time run.\n",
    "    if desired.value[1] - desired.value[0] == 0:\n",
    "        desired.value = (desired.min, desired.max)\n",
    "    fig, ax = plt.subplots(nrows=1, ncols=1);\n",
    "    ax.vlines(desired.value[0], 0, y.max())\n",
    "    ax.vlines(desired.value[1], 0, y.max())\n",
    "\n",
    "    line, = ax.plot(x, y)\n",
    "    ax.set_xlabel('Total Cost')\n",
    "    ax.set_ylabel('Likelihood')\n",
    "    #     line.set_ydata(y)\n",
    "    #     line.set_xdata(x)\n",
    "    #     ax.relim()\n",
    "    #     ax.autoscale()\n",
    "    \n",
    "    time.sleep(sleeptime)\n",
    "    kde_info.value = \"Computing relative likelihoods...\"\n",
    "    obs_dist = get_observed()\n",
    "    ratio = obs_dist.pdf(summed_samples).ravel()/kde.pdf(summed_samples.T).ravel()\n",
    "    n = len(summed_samples)\n",
    "    r = np.random.rand(n)\n",
    "    \n",
    "    kde_info.value = \"Rejecting possibilities.\"\n",
    "    R = ratio/ratio.max()\n",
    "    acc_inds = R > r\n",
    "    ax.scatter(summed_samples[acc_inds], np.zeros(sum(acc_inds)))\n",
    "#     acc_samps = arr[acc_inds,:]  # vectorized version.\n",
    "\n",
    "    time.sleep(sleeptime)\n",
    "    kde_info.value = \"Saving to Disk.\"\n",
    "    final_df = pd.DataFrame({ s: S[s][acc_inds] for s in S })\n",
    "#     final_df = final_df.drop(columns=['Unnamed: 0'])\n",
    "    final_df.to_csv('Budget_Options.csv', index = False)\n",
    "    time.sleep(sleeptime)\n",
    "    kde_info.value = \"Done. %d budget options saved out of %d considered.\"%(sum(acc_inds), samples.value)\n",
    "    plt.show()\n"
   ]
  },
  {
   "cell_type": "code",
   "execution_count": 61,
   "metadata": {},
   "outputs": [],
   "source": [
    "@out_prev.capture(clear_output=True, wait=True)\n",
    "def myprev():\n",
    "    fig, ax = plt.subplots(nrows=1, ncols=1);\n",
    "    x = np.linspace(min_txt.value, max_txt.value, 1000)\n",
    "    if x.max() - x.min() == 0:\n",
    "        ax.vlines(x.min(), 0, 1)\n",
    "    else:\n",
    "        y = beta_dist(min_txt.value, max_txt.value, a.value, b.value).pdf(x)\n",
    "        line, = ax.plot(x, y)\n",
    "    ax.set_xlabel('Individual Cost')\n",
    "    ax.set_ylabel('Likelihood')\n",
    "    ax.set_title('%s-%s'%(freq_dropdown.value, param_dropdown.value))\n",
    "#     line.set_ydata(y)\n",
    "#     line.set_xdata(x)\n",
    "#     ax.relim()\n",
    "#     ax.autoscale()\n",
    "    plt.show()\n"
   ]
  },
  {
   "cell_type": "code",
   "execution_count": 62,
   "metadata": {},
   "outputs": [],
   "source": [
    "def kde_prev(val):\n",
    "    mykde()\n",
    "    return None\n",
    "\n",
    "def beta_prev(val):\n",
    "    if options.value == \"left-leaning\":\n",
    "        preset_btn_left()\n",
    "    elif options.value == \"right-leaning\":\n",
    "        preset_btn_right()\n",
    "    else:\n",
    "        preset_btn_cent()\n",
    "    \n",
    "    myprev()\n",
    "    return None"
   ]
  },
  {
   "cell_type": "code",
   "execution_count": 63,
   "metadata": {},
   "outputs": [],
   "source": [
    "options.observe(beta_prev, 'value')\n",
    "opt_slide.observe(beta_prev, 'value')\n",
    "# param_dropdown.observe(beta_prev, 'value')\n",
    "# freq_dropdown.value = freq_list[0]"
   ]
  },
  {
   "cell_type": "code",
   "execution_count": 64,
   "metadata": {},
   "outputs": [],
   "source": [
    "G = wd.GridspecLayout(6,3)\n",
    "G[0,:] = param_setter\n",
    "# G[1,0] = auto_fill(height='10%')\n",
    "G[1,:] = beta_setter\n",
    "# G[0:2,:] = auto_fill(label=\"SETTINGS\")\n",
    "G[2,0] = presets\n",
    "G[2:4,1:] = wd.HBox([auto_fill(width='10%'), out_prev])\n",
    "beta_prev(None)\n",
    "\n",
    "# G[4:9,0] = auto_fill(label='PLOT')\n",
    "# G[4:9,1] = auto_fill(label='PLOT')\n",
    "# G[7,:] = beta_setter\n",
    "# G[8,:] = param_setter\n",
    "# G[9:10,0:] = auto_fill(label='RUN')\n",
    "# G[,2] = wd.Button(layout=wd.Layout(height='auto', width='50%'))\n",
    "# G[:,2] = wd.Button(layout=auto_lay())"
   ]
  },
  {
   "cell_type": "code",
   "execution_count": 65,
   "metadata": {},
   "outputs": [
    {
     "data": {
      "application/vnd.jupyter.widget-view+json": {
       "model_id": "1ae63327e5c14feea7beae200868a61c",
       "version_major": 2,
       "version_minor": 0
      },
      "text/plain": [
       "GridspecLayout(children=(GridspecLayout(children=(Text(value='', description='Description', layout=Layout(grid…"
      ]
     },
     "metadata": {},
     "output_type": "display_data"
    }
   ],
   "source": [
    "display(G)"
   ]
  },
  {
   "cell_type": "markdown",
   "metadata": {},
   "source": [
    "# OPTIMIZE"
   ]
  },
  {
   "cell_type": "code",
   "execution_count": 69,
   "metadata": {},
   "outputs": [],
   "source": [
    "with open(db_name, 'r') as db:\n",
    "        DB = yaml.load(db, Loader=yaml.FullLoader)\n",
    "# DB"
   ]
  },
  {
   "cell_type": "code",
   "execution_count": 70,
   "metadata": {},
   "outputs": [],
   "source": [
    "H = wd.GridspecLayout(2,3)\n",
    "\n",
    "desired = wd.IntRangeSlider(continuous_update=False)\n",
    "samples = wd.IntSlider(description=\"Fidelity\", value=100, min=100, max=100000, continuous_update=False)\n",
    "kde_info = wd.Label(description=\"Status:\")\n",
    "H[0,0] = samples\n",
    "H[0,1] = desired\n",
    "btn = wd.Button(description=\"Preview\")\n",
    "H[1,0] = btn\n",
    "H[0,2] = out_kde\n",
    "H[1,1] = kde_info\n",
    "# samples.observe(kde_prev, 'value')\n",
    "# desired.observe(kde_prev, 'value'\n",
    "btn.on_click(kde_prev)"
   ]
  },
  {
   "cell_type": "markdown",
   "metadata": {},
   "source": [
    "### Hitting Preview writes CSV file with solution\n",
    "TODO: Dialogue box that updates with information (\"plotting, optimizing, saving\")"
   ]
  },
  {
   "cell_type": "code",
   "execution_count": 71,
   "metadata": {},
   "outputs": [
    {
     "data": {
      "application/vnd.jupyter.widget-view+json": {
       "model_id": "5973311c3cd2407ab8054f79642fd829",
       "version_major": 2,
       "version_minor": 0
      },
      "text/plain": [
       "GridspecLayout(children=(IntSlider(value=100, continuous_update=False, description='Fidelity', layout=Layout(g…"
      ]
     },
     "metadata": {},
     "output_type": "display_data"
    }
   ],
   "source": [
    "display(H)"
   ]
  },
  {
   "cell_type": "code",
   "execution_count": null,
   "metadata": {},
   "outputs": [],
   "source": [
    "# fig, ax = plt.subplots(nrows=1, ncols=1);\n",
    "# x, y, summed_samples, kde, arr, S = db_to_pushforward(DB, samples.value)\n",
    "# desired.max = x[-1]\n",
    "# desired.min = x[0]\n",
    "# ax.vlines(desired.value[0], 0, y.max())\n",
    "# ax.vlines(desired.value[1], 0, y.max())\n",
    "\n",
    "# line, = ax.plot(x, y)\n",
    "# ax.set_xlabel('Total Cost')\n",
    "# ax.set_ylabel('Likelihood')\n",
    "# #     line.set_ydata(y)\n",
    "# #     line.set_xdata(x)\n",
    "# #     ax.relim()\n",
    "# #     ax.autoscale()\n",
    "\n",
    "# obs_dist = get_observed()\n",
    "# ratio = obs_dist.pdf(summed_samples).ravel()/kde.pdf(summed_samples.T).ravel()\n",
    "# n = len(summed_samples)\n",
    "# r = np.random.rand(n)\n",
    "# R = ratio/ratio.max()\n",
    "# acc_inds = R > r\n",
    "# ax.scatter(summed_samples[acc_inds], np.zeros(sum(acc_inds)))\n",
    "# acc_samps = arr[acc_inds,:]\n",
    "# print(acc_samps.shape)\n",
    "# final_df = pd.DataFrame({ s: S[s][acc_inds] for s in S })\n",
    "# final_df.head(10)"
   ]
  },
  {
   "cell_type": "code",
   "execution_count": null,
   "metadata": {},
   "outputs": [],
   "source": [
    "# # final_df['index'] = np.arange(sum(acc_inds))\n",
    "# # final_df.set_index('index', inplace=False)\n",
    "# final_df.to_csv('Budget_Options.csv')\n",
    "# final_df.head()"
   ]
  },
  {
   "cell_type": "code",
   "execution_count": null,
   "metadata": {},
   "outputs": [],
   "source": [
    "# plt.rcParams['figure.figsize'] = 10,5"
   ]
  },
  {
   "cell_type": "code",
   "execution_count": null,
   "metadata": {},
   "outputs": [],
   "source": [
    "# pc = parallel_coordinates(final_df, 'index', color='k', alpha=0.2)\n",
    "# plt.gca().get_legend().remove()"
   ]
  },
  {
   "cell_type": "code",
   "execution_count": null,
   "metadata": {},
   "outputs": [],
   "source": [
    "# def compare_plots(val):\n",
    "#     x = np.linspace(0,1,100)\n",
    "#     plt.figure()\n",
    "#     ax = plt.subplot(111)\n",
    "#     ax.plot(x, ss.beta(**low_preset(0,1,val)).pdf(x))\n",
    "#     ax.plot(x, ss.beta(**mid_preset(0,1,val)).pdf(x))\n",
    "#     ax.plot(x, ss.beta(**high_preset(0,1,val)).pdf(x))\n",
    "# #     plt.title(\"preset distributions depend on single hyperparameter\")\n",
    "#     plt.show()\n",
    "# #     return plot\n",
    "# #     plt.show()\n",
    "# wd.interactive(compare_plots, val=wd.FloatSlider(value=0.5,min=0,max=1,step=0.1))"
   ]
  },
  {
   "cell_type": "code",
   "execution_count": null,
   "metadata": {},
   "outputs": [],
   "source": []
  }
 ],
 "metadata": {
  "kernelspec": {
   "display_name": "Python 3",
   "language": "python",
   "name": "python3"
  },
  "language_info": {
   "codemirror_mode": {
    "name": "ipython",
    "version": 3
   },
   "file_extension": ".py",
   "mimetype": "text/x-python",
   "name": "python",
   "nbconvert_exporter": "python",
   "pygments_lexer": "ipython3",
   "version": "3.7.3"
  }
 },
 "nbformat": 4,
 "nbformat_minor": 4
}
